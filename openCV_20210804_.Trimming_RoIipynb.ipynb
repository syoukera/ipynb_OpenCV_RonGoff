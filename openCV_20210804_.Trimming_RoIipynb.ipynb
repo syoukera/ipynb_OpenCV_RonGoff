{
 "cells": [
  {
   "cell_type": "code",
   "execution_count": 1,
   "source": [
    "import os\r\n",
    "import cv2\r\n",
    "import numpy as np\r\n",
    "import pandas as pd\r\n",
    "import matplotlib.pyplot as plt\r\n",
    "import matplotlib.animation as animation\r\n",
    "%matplotlib inline"
   ],
   "outputs": [],
   "metadata": {}
  },
  {
   "cell_type": "code",
   "execution_count": 2,
   "source": [
    "# Setting of plot\r\n",
    "\r\n",
    "from matplotlib.ticker import (MultipleLocator, FormatStrFormatter,\r\n",
    "                               AutoMinorLocator)\r\n",
    "# Setting of font\r\n",
    "plt.rcParams['font.family'] = 'serif'\r\n",
    "plt.rcParams['font.serif'] = ['Times New Roman'] + plt.rcParams['font.serif']\r\n",
    "plt.rcParams[\"font.size\"] = 12 \r\n",
    "\r\n",
    "## Please use these code while plotting\r\n",
    "# plt.xlabel(\"Time (linear) [s]\", fontsize=14)\r\n",
    "# plt.ylabel(\"Temperature [K]\", fontsize=14)\r\n",
    "# plt.tick_params(which='both', direction='in')\r\n",
    "# plt.legend(frameon=False)\r\n",
    "# ax = plt.gca()\r\n",
    "# ax.spines[\"right\"].set_color(\"none\")\r\n",
    "# ax.spines[\"top\"].set_color(\"none\")\r\n",
    "\r\n",
    "## Please use this code while saving\r\n",
    "# name = 'IDT_CH4_f0.5_20atm_GRI_O6e02_CONP'\r\n",
    "# plt.savefig(name + '.eps', format = 'eps', bbox_inches=\"tight\")\r\n",
    "# plt.savefig(name + '.png', format = 'png', bbox_inches=\"tight\", dpi=100)"
   ],
   "outputs": [],
   "metadata": {}
  },
  {
   "cell_type": "code",
   "execution_count": 3,
   "source": [
    "def get_img_GRAY(path):\r\n",
    "    # path = 'tif_file/IMG0035.tif'\r\n",
    "    img = cv2.imread(path)\r\n",
    "    img = cv2.cvtColor(img, cv2.COLOR_BGR2GRAY)\r\n",
    "    return img"
   ],
   "outputs": [],
   "metadata": {}
  },
  {
   "cell_type": "markdown",
   "source": [
    "# Test of image load"
   ],
   "metadata": {}
  },
  {
   "cell_type": "code",
   "execution_count": 4,
   "source": [
    "def get_img_path(phi, velocity, voltage, n2_flow_rate):\r\n",
    "    \r\n",
    "    base_path = f'../../tif_file'\r\n",
    "    file_name = f'/gap{gap_length}mm_u{velocity}_phi{phi}_n2_{n2_flow_rate}slm_{voltage:.1f}kV.tif'\r\n",
    "\r\n",
    "    # img_path = os.path.join(base_path, file_name)\r\n",
    "    img_path = base_path + file_name\r\n",
    "    \r\n",
    "    return img_path"
   ],
   "outputs": [],
   "metadata": {}
  },
  {
   "cell_type": "code",
   "execution_count": 22,
   "source": [
    "gap_length = 25\r\n",
    "\r\n",
    "# pixel value obtained from ImageJ\r\n",
    "x_right_burner = 3311\r\n",
    "x_left_burner = 1104\r\n",
    "y_top_burner = 1920\r\n",
    "x_center = int((x_right_burner + x_left_burner)/2)\r\n",
    "\r\n",
    "pixcel_diremeter_burner = x_right_burner - x_left_burner\r\n",
    "\r\n",
    "# value in physical dimention\r\n",
    "mm_diremeter_burner = 60 # mm\r\n",
    "mm_gap_length = gap_length # mm\r\n",
    "\r\n",
    "# convert pixcel to mili scale\r\n",
    "pixel2mm = mm_diremeter_burner/pixcel_diremeter_burner\r\n",
    "print(f'a pixel is equivalent to {pixel2mm:.3f} mm')\r\n",
    "\r\n",
    "num_pixel_gap = int(mm_gap_length/pixel2mm)\r\n",
    "\r\n",
    "y_bottum_glass = y_top_burner - num_pixel_gap\r\n",
    "\r\n",
    "num_pixel_width_roi = 40\r\n",
    "print(f'width of roi is {num_pixel_width_roi*pixel2mm} mm')"
   ],
   "outputs": [
    {
     "output_type": "stream",
     "name": "stdout",
     "text": [
      "a pixel is equivalent to 0.027 mm\n",
      "width of roi is 1.0874490258269145 mm\n"
     ]
    }
   ],
   "metadata": {}
  },
  {
   "cell_type": "code",
   "execution_count": 26,
   "source": [
    "def get_img_roi(img, radious_roi):\r\n",
    "    \r\n",
    "    x_center = int((x_left_burner + x_right_burner)/2)\r\n",
    "    \r\n",
    "    # for check of RoI\r\n",
    "    l = x_left_burner\r\n",
    "    r = x_right_burner\r\n",
    "    \r\n",
    "    # # for plot of arbitral axis\r\n",
    "    # l = x_center + radious_roi - int(num_pixel_width_roi/2)\r\n",
    "    # r = x_center + radious_roi + int(num_pixel_width_roi/2)\r\n",
    "    \r\n",
    "    t = y_bottum_glass\r\n",
    "    d = y_top_burner\r\n",
    "    \r\n",
    "    # print(l, r, t, d)\r\n",
    "\r\n",
    "    img_roi = img[t:d, l:r]\r\n",
    "    \r\n",
    "    return img_roi"
   ],
   "outputs": [],
   "metadata": {}
  },
  {
   "cell_type": "code",
   "execution_count": 29,
   "source": [
    "img_roi = get_img_roi(img, 0)\r\n",
    "\r\n",
    "# check range\r\n",
    "plt.imshow(img_roi, cmap='gray')\r\n",
    "plt.show()\r\n",
    "\r\n",
    "path = img_path.split('.png')[0] + '_trim.png'\r\n",
    "plt.imsave(path, img_roi)"
   ],
   "outputs": [
    {
     "output_type": "display_data",
     "data": {
      "text/plain": [
       "<Figure size 432x288 with 1 Axes>"
      ],
      "image/png": "[encoded data removed]"
     },
     "metadata": {
      "needs_background": "light"
     }
    }
   ],
   "metadata": {}
  },
  {
   "cell_type": "code",
   "execution_count": null,
   "source": [],
   "outputs": [],
   "metadata": {}
  }
 ],
 "metadata": {
  "kernelspec": {
   "name": "python3",
   "display_name": "Python 3.7.10 64-bit ('cv': conda)"
  },
  "language_info": {
   "codemirror_mode": {
    "name": "ipython",
    "version": 3
   },
   "file_extension": ".py",
   "mimetype": "text/x-python",
   "name": "python",
   "nbconvert_exporter": "python",
   "pygments_lexer": "ipython3",
   "version": "3.7.10"
  },
  "interpreter": {
   "hash": "c28197b9c95b9aa5e4c90fb4dc04ff7a1c3ea277a39265d4fab9d1f2b171535b"
  }
 },
 "nbformat": 4,
 "nbformat_minor": 5
}