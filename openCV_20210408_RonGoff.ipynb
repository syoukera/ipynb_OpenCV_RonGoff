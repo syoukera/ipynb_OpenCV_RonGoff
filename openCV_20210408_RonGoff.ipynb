{
 "cells": [
  {
   "cell_type": "code",
   "execution_count": 46,
   "source": [
    "import os\r\n",
    "import cv2\r\n",
    "import numpy as np\r\n",
    "import matplotlib.pyplot as plt\r\n",
    "from tqdm import tqdm\r\n",
    "%matplotlib inline"
   ],
   "outputs": [],
   "metadata": {}
  },
  {
   "cell_type": "code",
   "execution_count": 47,
   "source": [
    "def get_img_RGB(path):\r\n",
    "    # img = cv2.imread(path)\r\n",
    "    n = np.fromfile(path, dtype=np.uint8)\r\n",
    "    img = cv2.imdecode(n, cv2.IMREAD_COLOR)\r\n",
    "    img = cv2.cvtColor(img, cv2.COLOR_BGR2RGB)\r\n",
    "    return img"
   ],
   "outputs": [],
   "metadata": {}
  },
  {
   "cell_type": "code",
   "execution_count": 58,
   "source": [
    "def save_RonGoff(base_path, file_suffix, out_path):\r\n",
    "    # 5kV off\r\n",
    "    path = base_path + file_suffix + '_0kV.tif'\r\n",
    "    # print(path)\r\n",
    "    of = get_img_RGB(path)\r\n",
    "    # plt.imshow(of)\r\n",
    "    # plt.imshow(of,cmap='Greys_r')\r\n",
    "\r\n",
    "    # 5kV on\r\n",
    "    path = base_path + file_suffix + '_10kV.tif'\r\n",
    "    # print(path)\r\n",
    "    on = get_img_RGB(path)\r\n",
    "    # plt.imshow(on)\r\n",
    "\r\n",
    "    of_g = cv2.cvtColor(of, cv2.COLOR_RGB2GRAY)\r\n",
    "    on_g = cv2.cvtColor(on, cv2.COLOR_RGB2GRAY)\r\n",
    "    # of_g.shape\r\n",
    "\r\n",
    "    out = np.zeros(of.shape, dtype=np.uint8)\r\n",
    "    out.shape\r\n",
    "\r\n",
    "    # off as Red\r\n",
    "    out[:, :, 0] = of_g\r\n",
    "    # on as Green\r\n",
    "    out[:, :, 1] = on_g\r\n",
    "    out[:, :, 2] = 0\r\n",
    "\r\n",
    "    # Add text on image\r\n",
    "    cv2.putText(out, file_suffix, (50, 200), cv2.FONT_HERSHEY_PLAIN, 10, (255, 255, 255), 5, cv2.LINE_AA)\r\n",
    "    \r\n",
    "    path = out_path + file_suffix +  '_RofGon.png'\r\n",
    "    # print(path)\r\n",
    "    # plt.imshow(out)\r\n",
    "    plt.imsave(path, out)"
   ],
   "outputs": [],
   "metadata": {}
  },
  {
   "cell_type": "code",
   "execution_count": 60,
   "source": [
    "base_path = 'C:/Users/sakir/OneDrive/デスクトップ/20210702_DC電界印加_ch_torus_20mm/tif_file'\r\n",
    "# base_path = 'C:/Users/sakir/OneDrive/デスクトップ/20210705_DC電界印加_ch_disk_20mm/tif_file'\r\n",
    "# base_path = 'C:/Users/sakir/OneDrive/デスクトップ/20210706_DC電界印加_ch_disk_15mm/tif_file'\r\n",
    "# base_path = 'C:/Users/sakir/OneDrive/デスクトップ/20210706_DC電界印加_ch_torus_15mm/tif_file'\r\n",
    "# base_path = 'C:/Users/sakir/OneDrive/デスクトップ/20210708_DC電界印加_ch_disk_25mm/tif_file'\r\n",
    "# base_path = 'C:/Users/sakir/OneDrive/デスクトップ/20210708_DC電界印加_ch_torus_25mm/tif_file'\r\n",
    "\r\n",
    "files_all = os.listdir(base_path)\r\n",
    "files = ['/' + f.split('_0kV')[0] for f in files_all if '_0kV.tif' in f]\r\n",
    "\r\n",
    "out_path = 'output/' + base_path.split('/')[5]\r\n",
    "try:\r\n",
    "    os.mkdir(out_path)\r\n",
    "except:\r\n",
    "    pass\r\n",
    "\r\n",
    "for f in tqdm(files):\r\n",
    "    save_RonGoff(base_path, f, out_path)"
   ],
   "outputs": [
    {
     "output_type": "stream",
     "name": "stderr",
     "text": [
      "100%|██████████| 16/16 [00:30<00:00,  1.91s/it]\n"
     ]
    }
   ],
   "metadata": {}
  },
  {
   "cell_type": "code",
   "execution_count": 35,
   "source": [
    "files"
   ],
   "outputs": [
    {
     "output_type": "execute_result",
     "data": {
      "text/plain": [
       "[]"
      ]
     },
     "metadata": {},
     "execution_count": 35
    }
   ],
   "metadata": {}
  },
  {
   "cell_type": "code",
   "execution_count": null,
   "source": [],
   "outputs": [],
   "metadata": {}
  }
 ],
 "metadata": {
  "kernelspec": {
   "name": "python3",
   "display_name": "Python 3.7.10 64-bit ('cv': conda)"
  },
  "language_info": {
   "codemirror_mode": {
    "name": "ipython",
    "version": 3
   },
   "file_extension": ".py",
   "mimetype": "text/x-python",
   "name": "python",
   "nbconvert_exporter": "python",
   "pygments_lexer": "ipython3",
   "version": "3.7.10"
  },
  "interpreter": {
   "hash": "c28197b9c95b9aa5e4c90fb4dc04ff7a1c3ea277a39265d4fab9d1f2b171535b"
  }
 },
 "nbformat": 4,
 "nbformat_minor": 5
}